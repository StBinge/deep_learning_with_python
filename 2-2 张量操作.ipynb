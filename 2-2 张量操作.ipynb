{
 "cells": [
  {
   "cell_type": "code",
   "execution_count": 4,
   "metadata": {},
   "outputs": [],
   "source": [
    "from sbw import *"
   ]
  },
  {
   "cell_type": "code",
   "execution_count": 5,
   "metadata": {},
   "outputs": [
    {
     "name": "stdout",
     "output_type": "stream",
     "text": [
      "12 0 ()\n",
      "[11 12] 1 (2,)\n"
     ]
    }
   ],
   "source": [
    "import numpy as np\n",
    "# 创建一个标量, 0维张量\n",
    "x=np.array(12)\n",
    "print(x,x.ndim,x.shape)\n",
    "# 创建一个1维张量\n",
    "y=np.array([11,12])\n",
    "print(y,y.ndim,y.shape)"
   ]
  },
  {
   "cell_type": "code",
   "execution_count": 6,
   "metadata": {},
   "outputs": [
    {
     "name": "stdout",
     "output_type": "stream",
     "text": [
      "Took:0.02\n"
     ]
    }
   ],
   "source": [
    "import time\n",
    "\n",
    "# 测试张量运算的速度\n",
    "x=np.random.random((20,100))\n",
    "y=np.random.random((20,100))\n",
    "t0=time.time()\n",
    "for i in range(10000):\n",
    "    z=x+y\n",
    "    z=np.maximum(z,0.)\n",
    "print(f'Took:{time.time()-t0:.2f}')"
   ]
  },
  {
   "cell_type": "code",
   "execution_count": 7,
   "metadata": {},
   "outputs": [
    {
     "name": "stdout",
     "output_type": "stream",
     "text": [
      "(1, 10)\n",
      "(320,)\n"
     ]
    }
   ],
   "source": [
    "# 创建一个一维张量\n",
    "x=np.random.random((10,))\n",
    "# 指定的轴, 意味如何扩展\n",
    "# axis=0, 新建一个轴\n",
    "# axis>0, 将相应层次的元素, 包裹在新的容器中\n",
    "y=np.expand_dims(x,0)\n",
    "print(y.shape)\n",
    "z=np.concatenate([x]*32,0)\n",
    "print(z.shape)"
   ]
  },
  {
   "cell_type": "code",
   "execution_count": 8,
   "metadata": {},
   "outputs": [
    {
     "name": "stdout",
     "output_type": "stream",
     "text": [
      "[[0.97816813 0.32605524 0.16020166]\n",
      " [0.91787138 0.59435978 0.14186197]]\n",
      "==========\n",
      "[[[0.97816813 0.32605524 0.16020166]\n",
      "  [0.91787138 0.59435978 0.14186197]]]\n",
      "==========\n",
      "[[[0.97816813 0.32605524 0.16020166]]\n",
      "\n",
      " [[0.91787138 0.59435978 0.14186197]]]\n",
      "==========\n",
      "[[[0.97816813]\n",
      "  [0.32605524]\n",
      "  [0.16020166]]\n",
      "\n",
      " [[0.91787138]\n",
      "  [0.59435978]\n",
      "  [0.14186197]]]\n"
     ]
    }
   ],
   "source": [
    "x=np.random.random((2,3))\n",
    "print(x)\n",
    "print_line()\n",
    "# 扩展最外层容器\n",
    "y=np.expand_dims(x,0)\n",
    "print(y)\n",
    "print_line()\n",
    "\n",
    "# 扩展次级容器\n",
    "z=np.expand_dims(x,1)\n",
    "print(z)\n",
    "print_line()\n",
    "\n",
    "# 扩展单个元素为容器\n",
    "w=np.expand_dims(x,2)\n",
    "print(w)"
   ]
  },
  {
   "cell_type": "code",
   "execution_count": null,
   "metadata": {},
   "outputs": [
    {
     "name": "stdout",
     "output_type": "stream",
     "text": [
      "[[[0.65812368 0.22743063 0.72175884 0.20133926]\n",
      "  [0.19485901 0.82429744 0.20756484 0.90399007]\n",
      "  [0.54525334 0.02986789 0.30395999 0.37522271]]\n",
      "\n",
      " [[0.82885    0.88139496 0.02693518 0.91195409]\n",
      "  [0.66489059 0.88658831 0.5771144  0.08818289]\n",
      "  [0.26890112 0.09318265 0.4196997  0.55682072]]]\n",
      "==========\n",
      "[[0.87632723 0.89319443 0.77917156 0.44523289]\n",
      " [0.95014087 0.40467806 0.03742003 0.35172256]\n",
      " [0.02539775 0.98992056 0.68435239 0.95690479]]\n",
      "==========\n",
      "[[[0.87632723 0.89319443 0.77917156 0.44523289]\n",
      "  [0.95014087 0.82429744 0.20756484 0.90399007]\n",
      "  [0.54525334 0.98992056 0.68435239 0.95690479]]\n",
      "\n",
      " [[0.87632723 0.89319443 0.77917156 0.91195409]\n",
      "  [0.95014087 0.88658831 0.5771144  0.35172256]\n",
      "  [0.26890112 0.98992056 0.68435239 0.95690479]]]\n",
      "==========\n"
     ]
    }
   ],
   "source": [
    "# 不同维度张量之间的计算\n",
    "# 自动复用低维张量\n",
    "x=np.random.random((2,3,4))\n",
    "print(x)\n",
    "print_line()\n",
    "\n",
    "y=np.random.random((3,4))\n",
    "print(y)\n",
    "print_line()\n",
    "\n",
    "z=np.maximum(x,y)\n",
    "print(z)\n",
    "print_line()"
   ]
  },
  {
   "cell_type": "code",
   "execution_count": null,
   "metadata": {},
   "outputs": [],
   "source": [
    "# 模拟实现张量运算\n",
    "\n",
    "from numpy import ndarray\n",
    "def native_vector_dot(v1:list,v2:list):\n",
    "    assert len(v1)==len(v2)\n",
    "    return sum(n1*n2 for n1,n2 in zip(v1,v2))\n",
    "\n",
    "def native_matrix_dot(mat1:ndarray,mat2:ndarray):\n",
    "    assert np.shape(mat1)[1]==np.shape(mat2)[0]\n",
    "    r=np.shape(mat1)[0]\n",
    "    c=np.shape(mat2)[1]\n",
    "    ret=np.zeros((r,c))\n",
    "    for r in range(np.shape(mat1)[0]):\n",
    "        for c in range(np.shape(mat2)[1]):\n",
    "            ret[r][c]=native_vector_dot(mat1[r,:],mat2[:,c])\n",
    "    return ret\n"
   ]
  },
  {
   "cell_type": "code",
   "execution_count": null,
   "metadata": {},
   "outputs": [
    {
     "name": "stdout",
     "output_type": "stream",
     "text": [
      "[[0.95150973 0.94042511]\n",
      " [0.83633959 0.74816255]]\n",
      "==========\n",
      "[[0.95150973 0.94042511]\n",
      " [0.83633959 0.74816255]]\n",
      "==========\n"
     ]
    }
   ],
   "source": [
    "x=np.random.random((2,3))\n",
    "y=np.random.random((3,2))\n",
    "z1=np.dot(x,y)\n",
    "print(z1)\n",
    "print_line()\n",
    "z2=native_matrix_dot(x,y)\n",
    "print(z2)\n",
    "print_line()\n"
   ]
  }
 ],
 "metadata": {
  "kernelspec": {
   "display_name": "Python 3",
   "language": "python",
   "name": "python3"
  },
  "language_info": {
   "codemirror_mode": {
    "name": "ipython",
    "version": 3
   },
   "file_extension": ".py",
   "mimetype": "text/x-python",
   "name": "python",
   "nbconvert_exporter": "python",
   "pygments_lexer": "ipython3",
   "version": "3.11.4"
  }
 },
 "nbformat": 4,
 "nbformat_minor": 2
}
