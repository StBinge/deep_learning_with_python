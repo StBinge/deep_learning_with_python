{
 "cells": [
  {
   "cell_type": "code",
   "execution_count": 5,
   "metadata": {},
   "outputs": [
    {
     "name": "stdout",
     "output_type": "stream",
     "text": [
      "tf.Tensor(\n",
      "[[1.]\n",
      " [1.]], shape=(2, 1), dtype=float32)\n",
      "tf.Tensor([[0. 0.]], shape=(1, 2), dtype=float32)\n",
      "tf.Tensor(\n",
      "[[ 0.02721338]\n",
      " [ 0.68467593]\n",
      " [-0.26875126]], shape=(3, 1), dtype=float32)\n",
      "tf.Tensor([[0.39904344 0.87837374 0.99560297]], shape=(1, 3), dtype=float32)\n"
     ]
    }
   ],
   "source": [
    "# 创建张量常数矩阵\n",
    "# tensorflow创建的矩阵不可变\n",
    "import tensorflow as tf\n",
    "\n",
    "ones=tf.ones(shape=(2,1))\n",
    "print(ones)\n",
    "zeros=tf.zeros(shape=(1,2))\n",
    "print(zeros)\n",
    "\n",
    "# 正态分布, 钟形曲线\n",
    "normals=tf.random.normal(shape=(3,1),mean=0,stddev=1)\n",
    "print(normals)\n",
    "# 均匀分布, 矩形\n",
    "uniforms=tf.random.uniform(shape=(1,3),minval=0,maxval=1)\n",
    "print(uniforms)"
   ]
  },
  {
   "cell_type": "code",
   "execution_count": 10,
   "metadata": {},
   "outputs": [
    {
     "name": "stdout",
     "output_type": "stream",
     "text": [
      "<tf.Variable 'Variable:0' shape=(3, 1) dtype=float32, numpy=\n",
      "array([[ 0.02721338],\n",
      "       [ 0.68467593],\n",
      "       [-0.26875126]], dtype=float32)>\n",
      "<tf.Variable 'Variable:0' shape=(3, 1) dtype=float32, numpy=\n",
      "array([[1.],\n",
      "       [1.],\n",
      "       [1.]], dtype=float32)>\n",
      "<tf.Variable 'Variable:0' shape=(3, 1) dtype=float32, numpy=\n",
      "array([[1.],\n",
      "       [2.],\n",
      "       [1.]], dtype=float32)>\n",
      "<tf.Variable 'Variable:0' shape=(3, 1) dtype=float32, numpy=\n",
      "array([[2.],\n",
      "       [3.],\n",
      "       [2.]], dtype=float32)>\n",
      "<tf.Variable 'Variable:0' shape=(3, 1) dtype=float32, numpy=\n",
      "array([[1.143331 ],\n",
      "       [2.611687 ],\n",
      "       [1.1301035]], dtype=float32)>\n"
     ]
    }
   ],
   "source": [
    "# 创建张量变量矩阵\n",
    "\n",
    "v=tf.Variable(normals)\n",
    "print(v)\n",
    "\n",
    "# 为变量赋值\n",
    "# 赋值操作必须通过assign\n",
    "# 批量赋值\n",
    "v.assign(tf.ones((3,1)))\n",
    "print(v)\n",
    "# 单个元素赋值\n",
    "v[1,0].assign(2.)\n",
    "print(v)\n",
    "# 加法赋值\n",
    "v.assign_add(tf.ones((3,1)))\n",
    "print(v)\n",
    "# 减法赋值\n",
    "v.assign_sub(tf.random.uniform((3,1),maxval=3))\n",
    "print(v)"
   ]
  },
  {
   "cell_type": "code",
   "execution_count": 23,
   "metadata": {},
   "outputs": [
    {
     "name": "stdout",
     "output_type": "stream",
     "text": [
      "tf.Tensor(\n",
      "[[0.28504586 0.7987139 ]\n",
      " [0.31637204 0.6783092 ]], shape=(2, 2), dtype=float32)\n",
      "tf.Tensor(\n",
      "[[0.08125114 0.6379439 ]\n",
      " [0.10009126 0.46010336]], shape=(2, 2), dtype=float32)\n",
      "tf.Tensor(\n",
      "[[0.53389686 0.893708  ]\n",
      " [0.5624696  0.8235953 ]], shape=(2, 2), dtype=float32)\n",
      "tf.Tensor(\n",
      "[[0.5700917 1.5974278]\n",
      " [0.6327441 1.3566184]], shape=(2, 2), dtype=float32)\n",
      "tf.Tensor(\n",
      "[[0.08125114 0.6379439 ]\n",
      " [0.10009126 0.46010336]], shape=(2, 2), dtype=float32)\n",
      "tf.Tensor(\n",
      "[[1. 1.]\n",
      " [1. 1.]], shape=(2, 2), dtype=float32)\n"
     ]
    }
   ],
   "source": [
    "# 张量的运算\n",
    "\n",
    "\n",
    "x=tf.random.uniform((2,2))\n",
    "print(x)\n",
    "\n",
    "xx=tf.square(x)\n",
    "print(xx)\n",
    "\n",
    "xx=tf.sqrt(x)\n",
    "print(xx)\n",
    "\n",
    "xx=x+x\n",
    "print(xx)\n",
    "\n",
    "xx=x*x\n",
    "print(xx)\n",
    "\n",
    "x/=x\n",
    "print(x)"
   ]
  },
  {
   "cell_type": "code",
   "execution_count": 36,
   "metadata": {},
   "outputs": [
    {
     "name": "stdout",
     "output_type": "stream",
     "text": [
      "tf.Tensor(10.0, shape=(), dtype=float32)\n",
      "tf.Tensor(31.0, shape=(), dtype=float32)\n",
      "speed tf.Tensor(29.400002, shape=(), dtype=float32)\n",
      "acceleration tf.Tensor(9.8, shape=(), dtype=float32)\n"
     ]
    }
   ],
   "source": [
    "# GradientTape 梯度计算\n",
    "\n",
    "v=tf.Variable(3.)\n",
    "with tf.GradientTape() as tape:\n",
    "    result=v*v+4*v\n",
    "gradient=tape.gradient(result,v)\n",
    "print(gradient)\n",
    "\n",
    "# 计算任意输入的梯度\n",
    "n=tf.constant(3.)\n",
    "with tf.GradientTape() as tape:\n",
    "    tape.watch(n)\n",
    "    result=n**3+4*n\n",
    "gradient=tape.gradient(result,n)\n",
    "print(gradient)\n",
    "\n",
    "# 嵌套梯度计算, 计算梯度的梯度\n",
    "time=tf.Variable(3.)\n",
    "with tf.GradientTape() as speed_tape:\n",
    "    with tf.GradientTape() as position_tape:\n",
    "        position=0.5*9.8*time**2 # 物体自由落体\n",
    "    speed=position_tape.gradient(position,time)\n",
    "    print('speed',speed)\n",
    "acceleration=speed_tape.gradient(speed,time)\n",
    "print('acceleration',acceleration)"
   ]
  }
 ],
 "metadata": {
  "kernelspec": {
   "display_name": "Python 3",
   "language": "python",
   "name": "python3"
  },
  "language_info": {
   "codemirror_mode": {
    "name": "ipython",
    "version": 3
   },
   "file_extension": ".py",
   "mimetype": "text/x-python",
   "name": "python",
   "nbconvert_exporter": "python",
   "pygments_lexer": "ipython3",
   "version": "3.11.4"
  }
 },
 "nbformat": 4,
 "nbformat_minor": 2
}
