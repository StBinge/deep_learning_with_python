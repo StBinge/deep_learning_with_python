{
 "cells": [
  {
   "cell_type": "code",
   "execution_count": 43,
   "metadata": {},
   "outputs": [],
   "source": [
    "import tensorflow as tf"
   ]
  },
  {
   "cell_type": "code",
   "execution_count": 44,
   "metadata": {},
   "outputs": [],
   "source": [
    "from typing import Any\n",
    "\n",
    "\n",
    "class NaiveDense:\n",
    "    def __init__(self,input_size,output_size,activation) -> None:\n",
    "        self.activation=activation\n",
    "        w_shape=(input_size,output_size)\n",
    "        w_values=tf.random.uniform(w_shape,minval=0,maxval=1e-1)\n",
    "        self.W=tf.Variable(w_values)\n",
    "        b_shape=(output_size,)\n",
    "        b_values=tf.zeros(b_shape)\n",
    "        self.B=tf.Variable(b_values)\n",
    "    def __call__(self, input) -> Any:\n",
    "        return self.activation(tf.matmul(input,self.W)+self.B)\n",
    "    \n",
    "    @property\n",
    "    def weights(self):\n",
    "        return [self.W,self.B]"
   ]
  },
  {
   "cell_type": "code",
   "execution_count": 45,
   "metadata": {},
   "outputs": [],
   "source": [
    "class NaiveSequential:\n",
    "    def __init__(self,layers:list[NaiveDense]) -> None:\n",
    "        self.layers=layers\n",
    "\n",
    "    def __call__(self, input) -> Any:\n",
    "        for layer in self.layers:\n",
    "            input=layer(input)\n",
    "        return input\n",
    "    \n",
    "    @property\n",
    "    def weights(self):\n",
    "        w=[]\n",
    "        for layer in self.layers:\n",
    "            w+=layer.weights\n",
    "        return w"
   ]
  },
  {
   "cell_type": "code",
   "execution_count": 46,
   "metadata": {},
   "outputs": [],
   "source": [
    "model=NaiveSequential([\n",
    "    NaiveDense(28*28,512,activation=tf.nn.relu),\n",
    "    NaiveDense(512,10,activation=tf.nn.softmax)\n",
    "])\n",
    "assert len(model.weights)==4"
   ]
  },
  {
   "cell_type": "code",
   "execution_count": 47,
   "metadata": {},
   "outputs": [],
   "source": [
    "class BatchGenerator:\n",
    "    def __init__(self,samples:list,labels:list,batch_size) -> None:\n",
    "        self.samples=samples\n",
    "        self.labels=labels\n",
    "        self.batches=(len(samples)-1)//batch_size+1\n",
    "        self.batch_size=batch_size\n",
    "        self.index=0\n",
    "    \n",
    "    def next(self):\n",
    "        samples=self.samples[self.index:self.index+self.batch_size]\n",
    "        labels=self.labels[self.index:self.index+self.batch_size]\n",
    "        self.index+=self.batch_size\n",
    "        return (samples,labels)\n",
    "        "
   ]
  },
  {
   "cell_type": "code",
   "execution_count": 48,
   "metadata": {},
   "outputs": [],
   "source": [
    "from tensorflow.keras import optimizers\n",
    "\n",
    "optimizer=optimizers.SGD(learning_rate=1e-3)\n",
    "def update_weights(gradients,weights):\n",
    "    optimizer.apply_gradients(zip(gradients,weights))\n",
    "\n",
    "def traning_step(model:NaiveSequential,samples,labels):\n",
    "    with tf.GradientTape() as tape:\n",
    "        predictions=model(samples)\n",
    "        tot_losses=tf.keras.losses.sparse_categorical_crossentropy(labels,predictions)\n",
    "        avg_losses=tf.reduce_mean(tot_losses)\n",
    "        gradients=tape.gradient(avg_losses,model.weights)\n",
    "        update_weights(gradients,model.weights)\n",
    "        return avg_losses\n",
    "\n",
    "# 手动更新权重\n",
    "# learning_rate=1e-3\n",
    "# def update_weights(gradients,weights):\n",
    "#     for g,w in zip(gradients,weights):\n",
    "#         w.assign_sub(g*learning_rate)\n",
    "\n"
   ]
  },
  {
   "cell_type": "code",
   "execution_count": 49,
   "metadata": {},
   "outputs": [],
   "source": [
    "def fit(model,samples,labels,epochs,batch_size):\n",
    "    for epoch_cnt in range(epochs):\n",
    "        print('Eposh:',epoch_cnt)\n",
    "        batch=BatchGenerator(samples,labels,batch_size)\n",
    "        for i in range(batch.batches):\n",
    "            s,l=batch.next()\n",
    "            loss=traning_step(model,s,l)\n",
    "            if i%100==0:\n",
    "                print(f'Loss at batch[{i}] -> {loss:.2f}')\n"
   ]
  },
  {
   "cell_type": "code",
   "execution_count": 50,
   "metadata": {},
   "outputs": [
    {
     "name": "stdout",
     "output_type": "stream",
     "text": [
      "Eposh: 0\n",
      "Loss at batch[0] -> 5.07\n",
      "Loss at batch[100] -> 2.27\n",
      "Loss at batch[200] -> 2.20\n",
      "Loss at batch[300] -> 2.10\n",
      "Loss at batch[400] -> 2.23\n",
      "Eposh: 1\n",
      "Loss at batch[0] -> 1.92\n",
      "Loss at batch[100] -> 1.91\n",
      "Loss at batch[200] -> 1.82\n",
      "Loss at batch[300] -> 1.72\n",
      "Loss at batch[400] -> 1.84\n",
      "Eposh: 2\n",
      "Loss at batch[0] -> 1.59\n",
      "Loss at batch[100] -> 1.60\n",
      "Loss at batch[200] -> 1.50\n",
      "Loss at batch[300] -> 1.43\n",
      "Loss at batch[400] -> 1.52\n",
      "Eposh: 3\n",
      "Loss at batch[0] -> 1.33\n",
      "Loss at batch[100] -> 1.36\n",
      "Loss at batch[200] -> 1.23\n",
      "Loss at batch[300] -> 1.22\n",
      "Loss at batch[400] -> 1.28\n",
      "Eposh: 4\n",
      "Loss at batch[0] -> 1.14\n",
      "Loss at batch[100] -> 1.18\n",
      "Loss at batch[200] -> 1.04\n",
      "Loss at batch[300] -> 1.05\n",
      "Loss at batch[400] -> 1.11\n",
      "Eposh: 5\n",
      "Loss at batch[0] -> 0.99\n",
      "Loss at batch[100] -> 1.03\n",
      "Loss at batch[200] -> 0.90\n",
      "Loss at batch[300] -> 0.93\n",
      "Loss at batch[400] -> 0.99\n",
      "Eposh: 6\n",
      "Loss at batch[0] -> 0.88\n",
      "Loss at batch[100] -> 0.92\n",
      "Loss at batch[200] -> 0.79\n",
      "Loss at batch[300] -> 0.84\n",
      "Loss at batch[400] -> 0.90\n",
      "Eposh: 7\n",
      "Loss at batch[0] -> 0.79\n",
      "Loss at batch[100] -> 0.84\n",
      "Loss at batch[200] -> 0.71\n",
      "Loss at batch[300] -> 0.76\n",
      "Loss at batch[400] -> 0.84\n",
      "Eposh: 8\n",
      "Loss at batch[0] -> 0.73\n",
      "Loss at batch[100] -> 0.77\n",
      "Loss at batch[200] -> 0.65\n",
      "Loss at batch[300] -> 0.71\n",
      "Loss at batch[400] -> 0.78\n",
      "Eposh: 9\n",
      "Loss at batch[0] -> 0.68\n",
      "Loss at batch[100] -> 0.71\n",
      "Loss at batch[200] -> 0.61\n",
      "Loss at batch[300] -> 0.66\n",
      "Loss at batch[400] -> 0.74\n"
     ]
    }
   ],
   "source": [
    "from tensorflow.keras.datasets import mnist\n",
    "\n",
    "(train_images,train_labels),(test_images,test_labels)=mnist.load_data()\n",
    "train_images=train_images.reshape((60000,28*28))\n",
    "train_images=train_images.astype('float32')/255\n",
    "test_images=test_images.reshape((10000,28*28))\n",
    "test_images=test_images.astype('float32')/255\n",
    "\n",
    "fit(model,train_images,train_labels,10,128)"
   ]
  },
  {
   "cell_type": "code",
   "execution_count": 54,
   "metadata": {},
   "outputs": [
    {
     "ename": "KeyboardInterrupt",
     "evalue": "",
     "output_type": "error",
     "traceback": [
      "\u001b[1;31m---------------------------------------------------------------------------\u001b[0m",
      "\u001b[1;31mKeyboardInterrupt\u001b[0m                         Traceback (most recent call last)",
      "Cell \u001b[1;32mIn[54], line 6\u001b[0m\n\u001b[0;32m      4\u001b[0m predictions\u001b[38;5;241m=\u001b[39mpredictions\u001b[38;5;241m.\u001b[39mnumpy()\n\u001b[0;32m      5\u001b[0m predicted_labels\u001b[38;5;241m=\u001b[39mnp\u001b[38;5;241m.\u001b[39margmax(predictions,axis\u001b[38;5;241m=\u001b[39m\u001b[38;5;241m1\u001b[39m)\n\u001b[1;32m----> 6\u001b[0m matches\u001b[38;5;241m=\u001b[39m\u001b[43mpredicted_labels\u001b[49m\u001b[38;5;241m==\u001b[39mtest_labels\n\u001b[0;32m      7\u001b[0m \u001b[38;5;28mprint\u001b[39m(\u001b[38;5;124mf\u001b[39m\u001b[38;5;124m'\u001b[39m\u001b[38;5;124mAccuracy:,\u001b[39m\u001b[38;5;132;01m{\u001b[39;00mmatches\u001b[38;5;241m.\u001b[39mmean()\u001b[38;5;132;01m:\u001b[39;00m\u001b[38;5;124m.2f\u001b[39m\u001b[38;5;132;01m}\u001b[39;00m\u001b[38;5;124m'\u001b[39m)\n",
      "Cell \u001b[1;32mIn[54], line 6\u001b[0m\n\u001b[0;32m      4\u001b[0m predictions\u001b[38;5;241m=\u001b[39mpredictions\u001b[38;5;241m.\u001b[39mnumpy()\n\u001b[0;32m      5\u001b[0m predicted_labels\u001b[38;5;241m=\u001b[39mnp\u001b[38;5;241m.\u001b[39margmax(predictions,axis\u001b[38;5;241m=\u001b[39m\u001b[38;5;241m1\u001b[39m)\n\u001b[1;32m----> 6\u001b[0m matches\u001b[38;5;241m=\u001b[39m\u001b[43mpredicted_labels\u001b[49m\u001b[38;5;241m==\u001b[39mtest_labels\n\u001b[0;32m      7\u001b[0m \u001b[38;5;28mprint\u001b[39m(\u001b[38;5;124mf\u001b[39m\u001b[38;5;124m'\u001b[39m\u001b[38;5;124mAccuracy:,\u001b[39m\u001b[38;5;132;01m{\u001b[39;00mmatches\u001b[38;5;241m.\u001b[39mmean()\u001b[38;5;132;01m:\u001b[39;00m\u001b[38;5;124m.2f\u001b[39m\u001b[38;5;132;01m}\u001b[39;00m\u001b[38;5;124m'\u001b[39m)\n",
      "File \u001b[1;32m_pydevd_bundle/pydevd_cython.pyx:1457\u001b[0m, in \u001b[0;36m_pydevd_bundle.pydevd_cython.SafeCallWrapper.__call__\u001b[1;34m()\u001b[0m\n",
      "File \u001b[1;32m_pydevd_bundle/pydevd_cython.pyx:701\u001b[0m, in \u001b[0;36m_pydevd_bundle.pydevd_cython.PyDBFrame.trace_dispatch\u001b[1;34m()\u001b[0m\n",
      "File \u001b[1;32m_pydevd_bundle/pydevd_cython.pyx:1395\u001b[0m, in \u001b[0;36m_pydevd_bundle.pydevd_cython.PyDBFrame.trace_dispatch\u001b[1;34m()\u001b[0m\n",
      "File \u001b[1;32m_pydevd_bundle/pydevd_cython.pyx:1344\u001b[0m, in \u001b[0;36m_pydevd_bundle.pydevd_cython.PyDBFrame.trace_dispatch\u001b[1;34m()\u001b[0m\n",
      "File \u001b[1;32m_pydevd_bundle/pydevd_cython.pyx:312\u001b[0m, in \u001b[0;36m_pydevd_bundle.pydevd_cython.PyDBFrame.do_wait_suspend\u001b[1;34m()\u001b[0m\n",
      "File \u001b[1;32m~\\AppData\\Roaming\\Python\\Python311\\site-packages\\debugpy\\_vendored\\pydevd\\pydevd.py:2070\u001b[0m, in \u001b[0;36mPyDB.do_wait_suspend\u001b[1;34m(self, thread, frame, event, arg, exception_type)\u001b[0m\n\u001b[0;32m   2067\u001b[0m             from_this_thread\u001b[38;5;241m.\u001b[39mappend(frame_custom_thread_id)\n\u001b[0;32m   2069\u001b[0m     \u001b[38;5;28;01mwith\u001b[39;00m \u001b[38;5;28mself\u001b[39m\u001b[38;5;241m.\u001b[39m_threads_suspended_single_notification\u001b[38;5;241m.\u001b[39mnotify_thread_suspended(thread_id, thread, stop_reason):\n\u001b[1;32m-> 2070\u001b[0m         keep_suspended \u001b[38;5;241m=\u001b[39m \u001b[38;5;28;43mself\u001b[39;49m\u001b[38;5;241;43m.\u001b[39;49m\u001b[43m_do_wait_suspend\u001b[49m\u001b[43m(\u001b[49m\u001b[43mthread\u001b[49m\u001b[43m,\u001b[49m\u001b[43m \u001b[49m\u001b[43mframe\u001b[49m\u001b[43m,\u001b[49m\u001b[43m \u001b[49m\u001b[43mevent\u001b[49m\u001b[43m,\u001b[49m\u001b[43m \u001b[49m\u001b[43marg\u001b[49m\u001b[43m,\u001b[49m\u001b[43m \u001b[49m\u001b[43msuspend_type\u001b[49m\u001b[43m,\u001b[49m\u001b[43m \u001b[49m\u001b[43mfrom_this_thread\u001b[49m\u001b[43m,\u001b[49m\u001b[43m \u001b[49m\u001b[43mframes_tracker\u001b[49m\u001b[43m)\u001b[49m\n\u001b[0;32m   2072\u001b[0m frames_list \u001b[38;5;241m=\u001b[39m \u001b[38;5;28;01mNone\u001b[39;00m\n\u001b[0;32m   2074\u001b[0m \u001b[38;5;28;01mif\u001b[39;00m keep_suspended:\n\u001b[0;32m   2075\u001b[0m     \u001b[38;5;66;03m# This means that we should pause again after a set next statement.\u001b[39;00m\n",
      "File \u001b[1;32m~\\AppData\\Roaming\\Python\\Python311\\site-packages\\debugpy\\_vendored\\pydevd\\pydevd.py:2106\u001b[0m, in \u001b[0;36mPyDB._do_wait_suspend\u001b[1;34m(self, thread, frame, event, arg, suspend_type, from_this_thread, frames_tracker)\u001b[0m\n\u001b[0;32m   2103\u001b[0m         \u001b[38;5;28mself\u001b[39m\u001b[38;5;241m.\u001b[39m_call_input_hook()\n\u001b[0;32m   2105\u001b[0m     \u001b[38;5;28mself\u001b[39m\u001b[38;5;241m.\u001b[39mprocess_internal_commands()\n\u001b[1;32m-> 2106\u001b[0m     time\u001b[38;5;241m.\u001b[39msleep(\u001b[38;5;241m0.01\u001b[39m)\n\u001b[0;32m   2108\u001b[0m \u001b[38;5;28mself\u001b[39m\u001b[38;5;241m.\u001b[39mcancel_async_evaluation(get_current_thread_id(thread), \u001b[38;5;28mstr\u001b[39m(\u001b[38;5;28mid\u001b[39m(frame)))\n\u001b[0;32m   2110\u001b[0m \u001b[38;5;66;03m# process any stepping instructions\u001b[39;00m\n",
      "\u001b[1;31mKeyboardInterrupt\u001b[0m: "
     ]
    }
   ],
   "source": [
    "import numpy as np\n",
    "predictions=model(test_images)\n",
    "\n",
    "predictions=predictions.numpy()\n",
    "predicted_labels=np.argmax(predictions,axis=1)\n",
    "matches=predicted_labels==test_labels\n",
    "print(f'Accuracy:,{matches.mean():.2f}')"
   ]
  }
 ],
 "metadata": {
  "kernelspec": {
   "display_name": "Python 3",
   "language": "python",
   "name": "python3"
  },
  "language_info": {
   "codemirror_mode": {
    "name": "ipython",
    "version": 3
   },
   "file_extension": ".py",
   "mimetype": "text/x-python",
   "name": "python",
   "nbconvert_exporter": "python",
   "pygments_lexer": "ipython3",
   "version": "3.11.4"
  }
 },
 "nbformat": 4,
 "nbformat_minor": 2
}
